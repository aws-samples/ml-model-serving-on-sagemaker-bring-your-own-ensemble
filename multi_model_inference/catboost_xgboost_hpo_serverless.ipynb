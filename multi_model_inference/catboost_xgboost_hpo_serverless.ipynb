{
 "cells": [
  {
   "cell_type": "markdown",
   "id": "2150cda8",
   "metadata": {},
   "source": [
    "## CatBoost XGBoost Script Mode Training and Serving \n",
    "\n",
    "This is a sample Python program that trains a simple CatBoost model and a XGBoost model using SageMaker XGBoost Docker image, and then performs inference. This implementation will work on your *local computer* or in the *AWS Cloud*.\n",
    "\n",
    "#### Prerequisites:\n",
    "1. Install required Python packages:\n",
    "   `pip install -r requirements.txt`\n",
    "2. Docker Desktop installed and running on your computer:\n",
    "   `docker ps`\n",
    "3. You should have AWS credentials configured on your local machine in order to be able to pull the docker image from ECR."
   ]
  },
  {
   "cell_type": "code",
   "execution_count": 3,
   "id": "4ba63d23",
   "metadata": {},
   "outputs": [],
   "source": [
    "import os\n",
    "import sagemaker\n",
    "import pandas as pd\n",
    "from sagemaker.predictor import csv_serializer\n",
    "from sagemaker.xgboost import XGBoost\n",
    "from sklearn.datasets import load_diabetes\n",
    "from sklearn.model_selection import train_test_split"
   ]
  },
  {
   "cell_type": "code",
   "execution_count": 4,
   "id": "d79ad448",
   "metadata": {},
   "outputs": [],
   "source": [
    "sess = sagemaker.Session()\n",
    "bucket = sess.default_bucket()\n",
    "role = sagemaker.get_execution_role()\n",
    "\n",
    "    \n",
    "prefix = \"xgboost_catboost\""
   ]
  },
  {
   "cell_type": "markdown",
   "id": "5c02c793",
   "metadata": {},
   "source": [
    "## Downloading Data\n",
    "Download training and eval data"
   ]
  },
  {
   "cell_type": "code",
   "execution_count": 5,
   "id": "07740d31",
   "metadata": {},
   "outputs": [],
   "source": [
    "local_train = './data/train/diabetes_train.csv'\n",
    "local_validation = './data/validation/diabetes_validation.csv'\n",
    "local_test = './data/test/diabetes_test.csv'"
   ]
  },
  {
   "cell_type": "code",
   "execution_count": 6,
   "id": "206974b6",
   "metadata": {},
   "outputs": [
    {
     "name": "stdout",
     "output_type": "stream",
     "text": [
      "Training dataset exist. Skipping Download\n"
     ]
    }
   ],
   "source": [
    "if os.path.isfile('./data/train/diabetes_train.csv') and \\\n",
    "        os.path.isfile('./data/validation/diabetes_validation.csv') and \\\n",
    "        os.path.isfile('./data/test/diabetes_test.csv'):\n",
    "    print('Training dataset exist. Skipping Download')\n",
    "else:\n",
    "    print('Downloading training dataset')\n",
    "\n",
    "    os.makedirs(\"./data\", exist_ok=True)\n",
    "    os.makedirs(\"./data/train\", exist_ok=True)\n",
    "    os.makedirs(\"./data/validation\", exist_ok=True)\n",
    "    os.makedirs(\"./data/test\", exist_ok=True)\n",
    "\n",
    "    data = load_diabetes()\n",
    "\n",
    "    X_train, X_test, y_train, y_test = train_test_split(data.data, data.target, test_size=0.25, random_state=45)\n",
    "    X_val, X_test, y_val, y_test = train_test_split(X_test, y_test, test_size=0.5, random_state=45)\n",
    "\n",
    "    trainX = pd.DataFrame(X_train, columns=data.feature_names)\n",
    "    trainX['target'] = y_train\n",
    "\n",
    "    valX = pd.DataFrame(X_test, columns=data.feature_names)\n",
    "    valX['target'] = y_test\n",
    "\n",
    "    testX = pd.DataFrame(X_test, columns=data.feature_names)\n",
    "\n",
    "    trainX.to_csv(local_train, header=None, index=False)\n",
    "    valX.to_csv(local_validation, header=None, index=False)\n",
    "    testX.to_csv(local_test, header=None, index=False)\n",
    "\n",
    "    print('Downloading completed')"
   ]
  },
  {
   "cell_type": "markdown",
   "id": "019ff41c",
   "metadata": {},
   "source": [
    "## Model Training\n",
    "Starting model training using **local mode**. Note: if launching for the first time in local mode, container image download might take a few minutes to complete."
   ]
  },
  {
   "cell_type": "code",
   "execution_count": 7,
   "id": "75eb918c",
   "metadata": {},
   "outputs": [],
   "source": [
    "training_instance_type = \"ml.m5.xlarge\"\n",
    "train_location = sess.upload_data(\n",
    "    local_train, key_prefix=\"{}/data/{}\".format(prefix, \"train\")\n",
    ")\n",
    "validation_location = sess.upload_data(\n",
    "    local_validation, key_prefix=\"{}/data/{}\".format(prefix, \"validation\")\n",
    ")\n",
    "        "
   ]
  },
  {
   "cell_type": "code",
   "execution_count": null,
   "id": "8b693db6",
   "metadata": {},
   "outputs": [],
   "source": [
    "train_location, validation_location"
   ]
  },
  {
   "cell_type": "code",
   "execution_count": 9,
   "id": "32b6a246",
   "metadata": {},
   "outputs": [],
   "source": [
    "hyperparameters = {\"num_round\": 6, \"max_depth\": 5}\n",
    "\n",
    "estimator_parameters = {\n",
    "    \"entry_point\": \"multi_model_hpo.py\",\n",
    "    \"source_dir\": \"code\",\n",
    "    \"dependencies\": [\"my_custom_library\"],\n",
    "    \"instance_type\": training_instance_type,\n",
    "    \"instance_count\": 1,\n",
    "    \"hyperparameters\": hyperparameters,\n",
    "    \"role\": role,\n",
    "    \"base_job_name\": \"xgboost-model\",\n",
    "    \"framework_version\": \"1.0-1\",\n",
    "    \"py_version\": \"py3\",\n",
    "}    \n",
    "    \n",
    "\n",
    "estimator = XGBoost(**estimator_parameters)"
   ]
  },
  {
   "cell_type": "markdown",
   "id": "712d4f10",
   "metadata": {},
   "source": [
    "If you only want to train the model, un-comment the next cell"
   ]
  },
  {
   "cell_type": "code",
   "execution_count": 10,
   "id": "2986d586",
   "metadata": {},
   "outputs": [],
   "source": [
    "# estimator.fit({'train': train_location, 'validation': validation_location})\n",
    "# print('Completed model training')"
   ]
  },
  {
   "cell_type": "markdown",
   "id": "d6aa728f",
   "metadata": {},
   "source": [
    "In the following cells, we will define a Hyperparameter Optimization job."
   ]
  },
  {
   "cell_type": "code",
   "execution_count": 11,
   "id": "25874070",
   "metadata": {},
   "outputs": [],
   "source": [
    "from sagemaker.tuner import (\n",
    "    IntegerParameter,\n",
    "#     CategoricalParameter,\n",
    "    ContinuousParameter,\n",
    "    HyperparameterTuner,\n",
    ")\n",
    "\n",
    "hyperparameter_ranges = {\n",
    "    \"eta\": ContinuousParameter(0.2, 0.3),\n",
    "    \"max_depth\": IntegerParameter(3, 4)\n",
    "}\n",
    "\n",
    "objective_metric_name = \"validation:rmse\""
   ]
  },
  {
   "cell_type": "code",
   "execution_count": 12,
   "id": "0fbead8d",
   "metadata": {},
   "outputs": [],
   "source": [
    "tuner = HyperparameterTuner(\n",
    "    estimator, \n",
    "    objective_metric_name,\n",
    "    hyperparameter_ranges, \n",
    "    max_jobs=4, \n",
    "    max_parallel_jobs=2, \n",
    "    objective_type='Minimize'\n",
    ")"
   ]
  },
  {
   "cell_type": "code",
   "execution_count": 14,
   "id": "a05fa748",
   "metadata": {},
   "outputs": [
    {
     "name": "stdout",
     "output_type": "stream",
     "text": [
      "................................................................................................!\n"
     ]
    }
   ],
   "source": [
    "tuner.fit({\"train\": train_location, \"validation\": validation_location}, include_cls_metadata=False)\n"
   ]
  },
  {
   "cell_type": "markdown",
   "id": "45620407",
   "metadata": {},
   "source": [
    "Get the best training job's values"
   ]
  },
  {
   "cell_type": "code",
   "execution_count": 15,
   "id": "f3179138",
   "metadata": {},
   "outputs": [],
   "source": [
    "job_name=tuner.latest_tuning_job.name\n",
    "attached_tuner = HyperparameterTuner.attach(job_name)"
   ]
  },
  {
   "cell_type": "code",
   "execution_count": 16,
   "id": "2e3f41cb",
   "metadata": {},
   "outputs": [
    {
     "data": {
      "text/plain": [
       "{'TrainingJobName': 'sagemaker-xgboost-220802-0855-003-b8a5e508',\n",
       " 'TrainingJobArn': 'arn:aws:sagemaker:us-east-1:327838496401:training-job/sagemaker-xgboost-220802-0855-003-b8a5e508',\n",
       " 'CreationTime': datetime.datetime(2022, 8, 2, 8, 58, 45, tzinfo=tzlocal()),\n",
       " 'TrainingStartTime': datetime.datetime(2022, 8, 2, 9, 0, 51, tzinfo=tzlocal()),\n",
       " 'TrainingEndTime': datetime.datetime(2022, 8, 2, 9, 2, 44, tzinfo=tzlocal()),\n",
       " 'TrainingJobStatus': 'Completed',\n",
       " 'TunedHyperParameters': {'eta': '0.27402597074722407', 'max_depth': '3'},\n",
       " 'FinalHyperParameterTuningJobObjectiveMetric': {'MetricName': 'validation:rmse',\n",
       "  'Value': 0.04377000033855438},\n",
       " 'ObjectiveStatus': 'Succeeded'}"
      ]
     },
     "execution_count": 16,
     "metadata": {},
     "output_type": "execute_result"
    }
   ],
   "source": [
    "attached_tuner.describe()[\"BestTrainingJob\"]"
   ]
  },
  {
   "cell_type": "markdown",
   "id": "5a4c1a30",
   "metadata": {},
   "source": [
    "# Deployment options"
   ]
  },
  {
   "cell_type": "markdown",
   "id": "306dad3c",
   "metadata": {},
   "source": [
    "## Deploy best model to real time endpoint\n",
    "Parameters for launching an m5.xlarge instance and deploy best model from HPO job"
   ]
  },
  {
   "cell_type": "code",
   "execution_count": 17,
   "id": "5b591729",
   "metadata": {},
   "outputs": [],
   "source": [
    "# predictor_params = {\n",
    "#     \"endpoint_name\": \"xgboost-catboost-ensemble\",\n",
    "#     \"entry_point\": \"multi_model_deploy.py\",\n",
    "#     \"dependencies\": [\"my_custom_library\"],\n",
    "#     \"source_dir\": \"code\",\n",
    "#     \"initial_instance_count\": 1,\n",
    "#     \"instance_type\": \"ml.m5.xlarge\"\n",
    "# }"
   ]
  },
  {
   "cell_type": "code",
   "execution_count": 18,
   "id": "7507afa5",
   "metadata": {},
   "outputs": [],
   "source": [
    "# predictor = attached_tuner.deploy(**predictor_params)"
   ]
  },
  {
   "cell_type": "markdown",
   "id": "e9b00c6d",
   "metadata": {},
   "source": [
    "## Deploy best model to a serverless endpoint\n",
    "Parameters for deploying best model from HPO job as a serverless endpoint"
   ]
  },
  {
   "cell_type": "code",
   "execution_count": 19,
   "id": "4129c732",
   "metadata": {},
   "outputs": [],
   "source": [
    "from sagemaker.serverless.serverless_inference_config import ServerlessInferenceConfig\n",
    "\n",
    "serverless_config = ServerlessInferenceConfig(\n",
    "    memory_size_in_mb=6144,\n",
    "    max_concurrency=1,\n",
    ")"
   ]
  },
  {
   "cell_type": "code",
   "execution_count": null,
   "id": "ee3d9dbb",
   "metadata": {},
   "outputs": [],
   "source": [
    "estimator=attached_tuner.best_estimator()"
   ]
  },
  {
   "cell_type": "code",
   "execution_count": 21,
   "id": "3fc29958",
   "metadata": {},
   "outputs": [
    {
     "name": "stdout",
     "output_type": "stream",
     "text": [
      "-------!"
     ]
    }
   ],
   "source": [
    "predictor = estimator.deploy(serverless_inference_config=serverless_config)"
   ]
  },
  {
   "cell_type": "code",
   "execution_count": null,
   "id": "b6eb475a",
   "metadata": {},
   "outputs": [],
   "source": [
    "predictor.endpoint_context()"
   ]
  },
  {
   "cell_type": "markdown",
   "id": "4e1f7b31",
   "metadata": {},
   "source": [
    "## Deploying trained model \n",
    "We can also deploy the trained model and perform invocation \n",
    "\n",
    "uncomment the below cell if you would like to deploy directly from the estimator object."
   ]
  },
  {
   "cell_type": "code",
   "execution_count": null,
   "id": "fc3d912b",
   "metadata": {},
   "outputs": [],
   "source": [
    "# endpoint_name = \"xgboost-catboost-endpoint\"\n",
    "# predictor = estimator.deploy(\n",
    "#         initial_instance_count=1, instance_type=\"ml.m5.xlarge\", endpoint_name=endpoint_name\n",
    "#     )\n"
   ]
  },
  {
   "cell_type": "markdown",
   "id": "cef75684",
   "metadata": {},
   "source": [
    "If you already have a model trained previously, you can use the model s3 uri in the model_data field and create a model object for deployment. No need to retrain the model using the estimator."
   ]
  },
  {
   "cell_type": "code",
   "execution_count": null,
   "id": "c7fded11",
   "metadata": {},
   "outputs": [],
   "source": [
    "# from sagemaker.xgboost.model import XGBoostModel\n",
    "\n",
    "# inference_model = XGBoostModel(\n",
    "#     model_data=model_data,\n",
    "#     role=role,\n",
    "#     entry_point=\"multi_model_deploy.py\",\n",
    "#     framework_version=\"1.0-1\",\n",
    "#     dependencies=[\"my_custom_library\"],\n",
    "#     source_dir=\"code\",\n",
    "# )"
   ]
  },
  {
   "cell_type": "markdown",
   "id": "a19c7bf9",
   "metadata": {},
   "source": [
    "The entry point script \"multi_model_deploy.py\" will handle the multiple models in the model artifacts and perform inference against each model. The results will be the mean of each inference output. This is a simple demonstration of how to work with multiple models, but you can design the model ensemble as you need."
   ]
  },
  {
   "cell_type": "code",
   "execution_count": null,
   "id": "3965f12a",
   "metadata": {},
   "outputs": [],
   "source": [
    "# predictor = inference_model.deploy(\n",
    "#     initial_instance_count=1,\n",
    "#     instance_type=\"ml.m5.xlarge\",\n",
    "# )"
   ]
  },
  {
   "cell_type": "markdown",
   "id": "6699eb19",
   "metadata": {},
   "source": [
    "# Invoke the model"
   ]
  },
  {
   "cell_type": "code",
   "execution_count": 22,
   "id": "e6b54f36",
   "metadata": {},
   "outputs": [],
   "source": [
    "\n",
    "from sagemaker.serializers import NumpySerializer, JSONSerializer, CSVSerializer\n",
    "from sagemaker.deserializers import NumpyDeserializer, JSONDeserializer\n",
    "predictor.serializer = CSVSerializer()\n",
    "predictor.deserializer = JSONDeserializer()\n"
   ]
  },
  {
   "cell_type": "code",
   "execution_count": null,
   "id": "5b6d5c04",
   "metadata": {},
   "outputs": [],
   "source": [
    "with open(local_test, 'r') as f:\n",
    "    payload = f.read().strip()\n",
    "\n",
    "predictions = predictor.predict(payload)\n",
    "print('predictions: {}'.format(predictions))"
   ]
  },
  {
   "cell_type": "markdown",
   "id": "4b0810b4",
   "metadata": {},
   "source": [
    "## Clear up resources\n",
    "Delete the endpoint deployed in local"
   ]
  },
  {
   "cell_type": "code",
   "execution_count": null,
   "id": "d8d28a0d",
   "metadata": {},
   "outputs": [],
   "source": [
    "# predictor.delete_endpoint(predictor.endpoint)"
   ]
  },
  {
   "cell_type": "code",
   "execution_count": null,
   "id": "cdeb1849",
   "metadata": {},
   "outputs": [],
   "source": []
  }
 ],
 "metadata": {
  "instance_type": "ml.t3.medium",
  "kernelspec": {
   "display_name": "conda_python3",
   "language": "python",
   "name": "conda_python3"
  },
  "language_info": {
   "codemirror_mode": {
    "name": "ipython",
    "version": 3
   },
   "file_extension": ".py",
   "mimetype": "text/x-python",
   "name": "python",
   "nbconvert_exporter": "python",
   "pygments_lexer": "ipython3",
   "version": "3.6.13"
  }
 },
 "nbformat": 4,
 "nbformat_minor": 5
}
